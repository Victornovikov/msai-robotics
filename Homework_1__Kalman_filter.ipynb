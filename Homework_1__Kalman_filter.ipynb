{
  "nbformat": 4,
  "nbformat_minor": 0,
  "metadata": {
    "colab": {
      "name": "Homework_1._Kalman_filter.ipynb",
      "provenance": [],
      "include_colab_link": true
    },
    "kernelspec": {
      "display_name": "Python 3",
      "language": "python",
      "name": "python3"
    },
    "language_info": {
      "codemirror_mode": {
        "name": "ipython",
        "version": 3
      },
      "file_extension": ".py",
      "mimetype": "text/x-python",
      "name": "python",
      "nbconvert_exporter": "python",
      "pygments_lexer": "ipython3",
      "version": "3.5.2"
    }
  },
  "cells": [
    {
      "cell_type": "markdown",
      "metadata": {
        "id": "view-in-github",
        "colab_type": "text"
      },
      "source": [
        "<a href=\"https://colab.research.google.com/github/Victornovikov/msai-robotics/blob/master/Homework_1__Kalman_filter.ipynb\" target=\"_parent\"><img src=\"https://colab.research.google.com/assets/colab-badge.svg\" alt=\"Open In Colab\"/></a>"
      ]
    },
    {
      "cell_type": "markdown",
      "metadata": {
        "id": "bY3vFOMWl1IA"
      },
      "source": [
        "# Home assignment #1. Kalman Filter"
      ]
    },
    {
      "cell_type": "markdown",
      "metadata": {
        "id": "aKUgJM51l1II"
      },
      "source": [
        "Imagine a robot. Robot state is described with the following parameters\n",
        "\n",
        "1. $x$, $y$ - robot coordinates,\n",
        "2. $V_x$, $V_y$ - velocities.\n",
        "\n",
        "We can only measure the coordinates of the robot, which should be reflected in the $ H $ matrix.\n",
        "\n",
        "In this homework assignment:\n",
        "- Fill in the matrices for the Kalman filter correctly.\n",
        "- For all three experiments, visualize the dependence of $ x $, $ y $, $ V_x $, $ V_y $ over time.\n",
        "- For all three experiments, visualize the dependence of each component of the gain matrix ($ K $) over time.\n",
        "     - What does the dynamics of changes in its components say?\n",
        "- How much does the velocity uncertainty decrease as a result of each experiment?"
      ]
    },
    {
      "cell_type": "code",
      "metadata": {
        "id": "eqCRMkIbl1IK"
      },
      "source": [
        "import numpy as np\n",
        "import seaborn as sns\n",
        "import pandas as pd\n",
        "from matplotlib import pyplot as plt\n",
        "\n",
        "\n",
        "k = list()\n",
        "\n",
        "########################################\n",
        "\n",
        "def filter(x, E):\n",
        "    x_hist = np.empty((len(measurements), 2))\n",
        "    v_hist = np.empty((len(measurements), 2))\n",
        "    for n in range(len(measurements)):\n",
        "        \n",
        "        # prediction\n",
        "        x = (F * x) + u\n",
        "        E = F * E * F.transpose()\n",
        "\n",
        "        # measurement update\n",
        "        Z = np.matrix([measurements[n]])\n",
        "        S = H * E * H.transpose() + R\n",
        "        K = E * H.transpose() * np.linalg.inv(S)\n",
        "        k.append(K)\n",
        "        x = x + (K * (Z.transpose() - (H * x)))\n",
        "        E = (I - (K * H)) * E\n",
        "        \n",
        "        # print('x= ')\n",
        "        # print(x)\n",
        "        x_hist[n, :] = x[0:2, :].flatten()\n",
        "        v_hist[n, :] = x[2:, :].flatten()\n",
        "        # print('E= ')\n",
        "        # print(E)\n",
        "        # print('K= ')\n",
        "        # print(K)\n",
        "    return x_hist, v_hist, k\n",
        "########################################"
      ],
      "execution_count": null,
      "outputs": []
    },
    {
      "cell_type": "code",
      "metadata": {
        "id": "3tN-JamPl1IL"
      },
      "source": [
        "dt = 0.1\n",
        "\n",
        "# initial covariance matrix: 0. for positions x and y, 1000 for the two velocities\n",
        "E = np.matrix([[0, 0, 0, 0], [0, 0, 0, 0], [0, 0, 1000, 0], [0, 0, 0, 1000]])\n",
        "# prediction made based on motion model p_t = p_{t-1} + \\delta{t}v{t-1}\n",
        "F = np.matrix([[1,0, dt, 0],[0,1, 0, dt], [0, 0, 1, 0], [0, 0, 0, 1]])\n",
        "# measurement function: reflect the fact that we observe x and y but not the two velocities\n",
        "H = np.matrix([[1, 0, 0, 0], [0, 1, 0, 0]])\n",
        " # measurement uncertainty: use 2x2 matrix with 0.1 as main diagonal\n",
        "R = [[0.1, 0], [0, 0.1]]\n",
        "# 4D identity matrix\n",
        "I = np.identity(n=4).T\n"
      ],
      "execution_count": null,
      "outputs": []
    },
    {
      "cell_type": "code",
      "metadata": {
        "id": "ocNcM_rzzNN5"
      },
      "source": [
        "def visualize(x, v, k):\n",
        "  df_experiment_x = pd.DataFrame(x, columns=['x', 'y'])\n",
        "  df_experiment_v = pd.DataFrame(v, columns=['v_x', 'v_y'])\n",
        "  print(df_experiment_x)\n",
        "  print(df_experiment_v)\n",
        "\n",
        "  sns.relplot(x='x', y='y', sort=False, kind=\"line\", data=df_experiment_x)\n",
        "  sns.relplot(x='v_x', y='v_y', sort=False, kind=\"line\", data=df_experiment_v)\n",
        "  \n",
        "  # fig, axs = plt.subplots(ncols=len(measurements))\n",
        "  print('-------')\n",
        "  # for i in range(len(measurements)):\n",
        "  #   print('k on step #', i)\n",
        "  #   print(k[i])"
      ],
      "execution_count": null,
      "outputs": []
    },
    {
      "cell_type": "code",
      "metadata": {
        "colab": {
          "base_uri": "https://localhost:8080/"
        },
        "id": "iJvqExFul1IL",
        "outputId": "0cfca3b3-30c0-4f89-c94a-7ab30810d2c1"
      },
      "source": [
        "print(\"### First Experiment ###\")\n",
        "measurements = [[5., 10.], [6., 8.], [7., 6.], [8., 4.], [9., 2.], [10., 0.]]\n",
        "initial_xy = [4., 12.]\n",
        "\n",
        "\n",
        "x = np.matrix([[initial_xy[0]], [initial_xy[1]], [0.], [0.]]) # initial robot state (location and velocity)\n",
        "u = np.matrix([[0.], [0.1], [0.], [0.]]) # external motion applied to the robot"
      ],
      "execution_count": null,
      "outputs": [
        {
          "output_type": "stream",
          "text": [
            "### First Experiment ###\n"
          ],
          "name": "stdout"
        }
      ]
    },
    {
      "cell_type": "markdown",
      "metadata": {
        "id": "iYtwqNQbl1IM"
      },
      "source": [
        "Visualize the dependence of $ x $, $ y $, $ V_x $, $ V_y $ over time"
      ]
    },
    {
      "cell_type": "code",
      "metadata": {
        "id": "RS03TT7Yl1IM",
        "colab": {
          "base_uri": "https://localhost:8080/",
          "height": 1000
        },
        "outputId": "a6797b53-9617-4dc2-d342-fe2c0435a89a"
      },
      "source": [
        "visualize(*filter(x, E))"
      ],
      "execution_count": null,
      "outputs": [
        {
          "output_type": "stream",
          "text": [
            "          x          y\n",
            "0  4.990099  10.020792\n",
            "1  5.996008   8.008383\n",
            "2  6.997859   6.004497\n",
            "3  7.998667   4.002799\n",
            "4  8.999091   2.001909\n",
            "5  9.999341   0.001384\n",
            "        v_x        v_y\n",
            "0  9.900990 -20.792079\n",
            "1  9.980040 -20.958084\n",
            "2  9.992862 -20.985011\n",
            "3  9.996668 -20.993002\n",
            "4  9.998182 -20.996183\n",
            "5  9.998901 -20.997693\n",
            "-------\n"
          ],
          "name": "stdout"
        },
        {
          "output_type": "display_data",
          "data": {
            "image/png": "[encoded data removed]",
            "text/plain": [
              "<Figure size 360x360 with 1 Axes>"
            ]
          },
          "metadata": {
            "tags": [],
            "needs_background": "light"
          }
        },
        {
          "output_type": "display_data",
          "data": {
            "image/png": "[encoded data removed]",
            "text/plain": [
              "<Figure size 360x360 with 1 Axes>"
            ]
          },
          "metadata": {
            "tags": [],
            "needs_background": "light"
          }
        }
      ]
    },
    {
      "cell_type": "markdown",
      "metadata": {
        "id": "y9y4xC1Bl1IN"
      },
      "source": [
        "Visualize the components of the $ K $ matrix below"
      ]
    },
    {
      "cell_type": "code",
      "metadata": {
        "id": "o1WRYsrkl1IN",
        "colab": {
          "base_uri": "https://localhost:8080/"
        },
        "outputId": "bedf44b3-913a-41fd-adad-7bc3a6427fa8"
      },
      "source": [
        "print(\"### Second Experiment ###\")\n",
        "measurements = [[1., 4.], [6., 0.], [11., -4.], [16., -8.]]\n",
        "initial_xy = [-4., 8.]\n",
        "\n",
        "dt = 0.1\n",
        "\n",
        "x = np.matrix([[initial_xy[0]], [initial_xy[1]], [0.], [0.]]) # initial robot state (location and velocity)\n",
        "u = np.matrix([[0.], [0.1], [0.], [0.]]) # external motion applied to the robot"
      ],
      "execution_count": null,
      "outputs": [
        {
          "output_type": "stream",
          "text": [
            "### Second Experiment ###\n"
          ],
          "name": "stdout"
        }
      ]
    },
    {
      "cell_type": "markdown",
      "metadata": {
        "id": "hipKerShl1IO"
      },
      "source": [
        "Visualize the dependence of $ x $, $ y $, $ V_x $, $ V_y $ over time"
      ]
    },
    {
      "cell_type": "code",
      "metadata": {
        "id": "u2QiCa20l1IO",
        "colab": {
          "base_uri": "https://localhost:8080/",
          "height": 934
        },
        "outputId": "cf20325d-ff2e-4823-e0c8-e4b6fc5f8ab3"
      },
      "source": [
        "visualize(*filter(x, E))"
      ],
      "execution_count": null,
      "outputs": [
        {
          "output_type": "stream",
          "text": [
            "           x         y\n",
            "0   0.950495  4.040594\n",
            "1   5.980040  0.016367\n",
            "2  10.989293 -3.991221\n",
            "3  15.993336 -7.994535\n",
            "         v_x        v_y\n",
            "0  49.504950 -40.594059\n",
            "1  49.900200 -40.918164\n",
            "2  49.964311 -40.970735\n",
            "3  49.983339 -40.986338\n",
            "-------\n"
          ],
          "name": "stdout"
        },
        {
          "output_type": "display_data",
          "data": {
            "image/png": "[encoded data removed]",
            "text/plain": [
              "<Figure size 360x360 with 1 Axes>"
            ]
          },
          "metadata": {
            "tags": [],
            "needs_background": "light"
          }
        },
        {
          "output_type": "display_data",
          "data": {
            "image/png": "[encoded data removed]",
            "text/plain": [
              "<Figure size 360x360 with 1 Axes>"
            ]
          },
          "metadata": {
            "tags": [],
            "needs_background": "light"
          }
        }
      ]
    },
    {
      "cell_type": "markdown",
      "metadata": {
        "id": "64Q_llFil1IO"
      },
      "source": [
        "Visualize the components of the $ K $ matrix below"
      ]
    },
    {
      "cell_type": "code",
      "metadata": {
        "id": "bHYI6mOsl1IO"
      },
      "source": [
        ""
      ],
      "execution_count": null,
      "outputs": []
    },
    {
      "cell_type": "code",
      "metadata": {
        "id": "4REVeILtl1IO",
        "colab": {
          "base_uri": "https://localhost:8080/"
        },
        "outputId": "3c51a46e-916e-40f4-9f01-c1722dbcd2f6"
      },
      "source": [
        "print(\"### Third Experiment ###\")\n",
        "measurements = [[1., 17.], [1., 15.], [1., 13.], [1., 11.]]\n",
        "initial_xy = [1., 19.]\n",
        "\n",
        "dt = 0.1\n",
        "\n",
        "x = np.matrix([[initial_xy[0]], [initial_xy[1]], [0.], [0.]]) # initial robot state (location and velocity)\n",
        "u = np.matrix([[0.], [0.1], [0.], [0.]]) # external motion applied to the robot"
      ],
      "execution_count": null,
      "outputs": [
        {
          "output_type": "stream",
          "text": [
            "### Third Experiment ###\n"
          ],
          "name": "stdout"
        }
      ]
    },
    {
      "cell_type": "code",
      "metadata": {
        "id": "rLBijzYLl1IP",
        "colab": {
          "base_uri": "https://localhost:8080/",
          "height": 934
        },
        "outputId": "bf869b63-983c-459b-8b72-1559e425ba77"
      },
      "source": [
        "visualize(*filter(x, E))"
      ],
      "execution_count": null,
      "outputs": [
        {
          "output_type": "stream",
          "text": [
            "     x          y\n",
            "0  1.0  17.020792\n",
            "1  1.0  15.008383\n",
            "2  1.0  13.004497\n",
            "3  1.0  11.002799\n",
            "   v_x        v_y\n",
            "0  0.0 -20.792079\n",
            "1  0.0 -20.958084\n",
            "2  0.0 -20.985011\n",
            "3  0.0 -20.993002\n",
            "-------\n"
          ],
          "name": "stdout"
        },
        {
          "output_type": "display_data",
          "data": {
            "image/png": "[encoded data removed]",
            "text/plain": [
              "<Figure size 360x360 with 1 Axes>"
            ]
          },
          "metadata": {
            "tags": [],
            "needs_background": "light"
          }
        },
        {
          "output_type": "display_data",
          "data": {
            "image/png": "[encoded data removed]",
            "text/plain": [
              "<Figure size 360x360 with 1 Axes>"
            ]
          },
          "metadata": {
            "tags": [],
            "needs_background": "light"
          }
        }
      ]
    },
    {
      "cell_type": "markdown",
      "metadata": {
        "id": "JU8UvEp1l1IP"
      },
      "source": [
        "Visualize the dependence of $ x $, $ y $, $ V_x $, $ V_y $ over time"
      ]
    },
    {
      "cell_type": "code",
      "metadata": {
        "id": "Zl76YtSPl1IP"
      },
      "source": [
        ""
      ],
      "execution_count": null,
      "outputs": []
    },
    {
      "cell_type": "markdown",
      "metadata": {
        "id": "WN7Sin61l1IP"
      },
      "source": [
        "Visualize the components of the $ K $ matrix below"
      ]
    },
    {
      "cell_type": "code",
      "metadata": {
        "id": "IkRTLd0Wl1IP"
      },
      "source": [
        ""
      ],
      "execution_count": null,
      "outputs": []
    }
  ]
}